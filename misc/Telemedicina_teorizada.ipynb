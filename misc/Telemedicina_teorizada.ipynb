{
  "nbformat": 4,
  "nbformat_minor": 0,
  "metadata": {
    "colab": {
      "provenance": [],
      "authorship_tag": "ABX9TyPBqn3HUo8XKHsnAFMV5a3/",
      "include_colab_link": true
    },
    "kernelspec": {
      "name": "python3",
      "display_name": "Python 3"
    },
    "language_info": {
      "name": "python"
    }
  },
  "cells": [
    {
      "cell_type": "markdown",
      "metadata": {
        "id": "view-in-github",
        "colab_type": "text"
      },
      "source": [
        "<a href=\"https://colab.research.google.com/github/guivnh/Vidaplus/blob/master/misc/Telemedicina_teorizada.ipynb\" target=\"_parent\"><img src=\"https://colab.research.google.com/assets/colab-badge.svg\" alt=\"Open In Colab\"/></a>"
      ]
    },
    {
      "cell_type": "markdown",
      "source": [
        "Simulação de Código para Login:"
      ],
      "metadata": {
        "id": "Hx9NmLUKujvR"
      }
    },
    {
      "cell_type": "code",
      "execution_count": null,
      "metadata": {
        "id": "vG2Rd1bWuMiB"
      },
      "outputs": [],
      "source": [
        "from flask import Flask, request, jsonify\n",
        "import jwt\n",
        "from werkzeug.security import check_password_hash\n",
        "\n",
        "app = Flask(__name__)\n",
        "app.config['SECRET_KEY'] = 'sua_chave_secreta'\n",
        "\n",
        "# Simulação de usuários no banco de dados\n",
        "usuarios = [\n",
        "    {\"id\": 1, \"email\": \"admin@ficticio.com\", \"senha_hash\": \"hash_senha_admin\", \"nivel_acesso\": \"administrador\"},\n",
        "    {\"id\": 2, \"email\": \"medico@ficticio.com\", \"senha_hash\": \"hash_senha_medico\", \"nivel_acesso\": \"medico\"}\n",
        "]\n",
        "\n",
        "@app.route('/login', methods=['POST'])\n",
        "def login():\n",
        "    dados = request.json\n",
        "    email = dados.get(\"email\")\n",
        "    senha = dados.get(\"senha\")\n",
        "\n",
        "    usuario = next((u for u in usuarios if u[\"email\"] == email), None)\n",
        "\n",
        "    if usuario and check_password_hash(usuario[\"senha_hash\"], senha):\n",
        "        # Gerar token JWT\n",
        "        token = jwt.encode({\"id\": usuario[\"id\"], \"nivel_acesso\": usuario[\"nivel_acesso\"]}, app.config['SECRET_KEY'], algorithm='HS256')\n",
        "        return jsonify({\"token\": token}), 200\n",
        "\n",
        "    return jsonify({\"erro\": \"Credenciais inválidas\"}), 401\n"
      ]
    },
    {
      "cell_type": "markdown",
      "source": [
        "Validação de token das rotas no Middleware:"
      ],
      "metadata": {
        "id": "Sa98ptWauuKv"
      }
    },
    {
      "cell_type": "code",
      "source": [
        "from flask import request, jsonify\n",
        "import jwt\n",
        "\n",
        "def autenticar(f):\n",
        "    def wrapper(*args, **kwargs):\n",
        "        token = request.headers.get(\"Authorization\")\n",
        "        if not token:\n",
        "            return jsonify({\"erro\": \"Token não fornecido\"}), 401\n",
        "\n",
        "        try:\n",
        "            dados = jwt.decode(token, \"sua_chave_secreta\", algorithms=['HS256'])\n",
        "            request.usuario = dados  # Adiciona as informações do usuário na requisição\n",
        "        except jwt.ExpiredSignatureError:\n",
        "            return jsonify({\"erro\": \"Token expirado\"}), 401\n",
        "        except jwt.InvalidTokenError:\n",
        "            return jsonify({\"erro\": \"Token inválido\"}), 401\n",
        "\n",
        "        return f(*args, **kwargs)\n",
        "    return wrapper\n"
      ],
      "metadata": {
        "id": "i7T1VylBu8yy"
      },
      "execution_count": null,
      "outputs": []
    },
    {
      "cell_type": "markdown",
      "source": [
        "CRUD com Pacientes no módulo de Telemedicina.\n",
        "\n",
        "Considerando que o módulo permitiria:\n",
        "\n",
        "*   Criar, visualizar, atualizar e excluir pacientes.\n",
        "*   Listar pacientes associados a um médico ou consulta via telemedicina.\n",
        "\n"
      ],
      "metadata": {
        "id": "g3gaY7OmvDak"
      }
    },
    {
      "cell_type": "code",
      "source": [
        "from flask import Flask, request, jsonify\n",
        "\n",
        "app = Flask(__name__)\n",
        "\n",
        "# Simulação de banco de dados para pacientes\n",
        "pacientes = [\n",
        "    {\"id\": 1, \"nome\": \"João Silva\", \"idade\": 45, \"endereco\": \"Rua Exemplo, 123\"},\n",
        "    {\"id\": 2, \"nome\": \"Maria Souza\", \"idade\": 32, \"endereco\": \"Rua Teste, 456\"}\n",
        "]\n",
        "\n",
        "@app.route('/pacientes', methods=['GET'])\n",
        "def listar_pacientes():\n",
        "    return jsonify(pacientes), 200\n",
        "\n",
        "@app.route('/pacientes/<int:id>', methods=['GET'])\n",
        "def obter_paciente(id):\n",
        "    paciente = next((p for p in pacientes if p[\"id\"] == id), None)\n",
        "    if paciente:\n",
        "        return jsonify(paciente), 200\n",
        "    return jsonify({\"erro\": \"Paciente não encontrado\"}), 404\n",
        "\n",
        "@app.route('/pacientes', methods=['POST'])\n",
        "def criar_paciente():\n",
        "    dados = request.json\n",
        "    novo_paciente = {\n",
        "        \"id\": len(pacientes) + 1,\n",
        "        \"nome\": dados[\"nome\"],\n",
        "        \"idade\": dados[\"idade\"],\n",
        "        \"endereco\": dados[\"endereco\"]\n",
        "    }\n",
        "    pacientes.append(novo_paciente)\n",
        "    return jsonify(novo_paciente), 201\n",
        "\n",
        "@app.route('/pacientes/<int:id>', methods=['PUT'])\n",
        "def atualizar_paciente(id):\n",
        "    dados = request.json\n",
        "    paciente = next((p for p in pacientes if p[\"id\"] == id), None)\n",
        "    if paciente:\n",
        "        paciente.update(dados)\n",
        "        return jsonify(paciente), 200\n",
        "    return jsonify({\"erro\": \"Paciente não encontrado\"}), 404\n",
        "\n",
        "@app.route('/pacientes/<int:id>', methods=['DELETE'])\n",
        "def excluir_paciente(id):\n",
        "    global pacientes\n",
        "    pacientes = [p for p in pacientes if p[\"id\"] != id]\n",
        "    return jsonify({\"mensagem\": \"Paciente excluído com sucesso\"}), 200\n"
      ],
      "metadata": {
        "id": "Gyn6zmrGvM-S"
      },
      "execution_count": null,
      "outputs": []
    },
    {
      "cell_type": "markdown",
      "source": [
        "Integração com o módulo de Telemedicina que lista pacientes para consultas de Telemedicina: Apenas pacientes associados a um médico (ou consulta) podem ser listados no módulo.\n",
        "\n",
        "Código teorizado do endpoint:"
      ],
      "metadata": {
        "id": "LJPSAdxHvn7H"
      }
    },
    {
      "cell_type": "code",
      "source": [
        "@app.route('/telemedicina/consultas/<int:medico_id>/pacientes', methods=['GET'])\n",
        "def listar_pacientes_consulta(medico_id):\n",
        "    # Simulação de pacientes associados a um médico\n",
        "    pacientes_medico = [p for p in pacientes if p[\"id\"] % 2 == medico_id % 2]  # Exemplo fictício\n",
        "    return jsonify(pacientes_medico), 200"
      ],
      "metadata": {
        "id": "EgV1TWQ-wM26"
      },
      "execution_count": null,
      "outputs": []
    }
  ]
}